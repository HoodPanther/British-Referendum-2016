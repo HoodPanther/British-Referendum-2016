{
 "cells": [
  {
   "cell_type": "code",
   "execution_count": 2,
   "metadata": {
    "collapsed": true
   },
   "outputs": [],
   "source": [
    "import numpy as np\n",
    "import seaborn as sns\n",
    "import matplotlib.pyplot as plt\n",
    "import pandas as pd"
   ]
  },
  {
   "cell_type": "code",
   "execution_count": 3,
   "metadata": {
    "collapsed": false
   },
   "outputs": [],
   "source": [
    "data = pd.read_csv(r\"C:\\Users\\SHIVAM MAHAJAN\\Desktop\\brexit2.csv\",sep=',')"
   ]
  },
  {
   "cell_type": "code",
   "execution_count": 4,
   "metadata": {
    "collapsed": false
   },
   "outputs": [],
   "source": [
    "data = data.iloc[:,2:]"
   ]
  },
  {
   "cell_type": "code",
   "execution_count": 5,
   "metadata": {
    "collapsed": false
   },
   "outputs": [
    {
     "data": {
      "text/html": [
       "<div>\n",
       "<table border=\"1\" class=\"dataframe\">\n",
       "  <thead>\n",
       "    <tr style=\"text-align: right;\">\n",
       "      <th></th>\n",
       "      <th>followers</th>\n",
       "      <th>hashtags</th>\n",
       "      <th>statuses_count</th>\n",
       "      <th>retweets</th>\n",
       "      <th>favourites</th>\n",
       "      <th>date</th>\n",
       "      <th>tweet</th>\n",
       "      <th>location</th>\n",
       "      <th>parsed_tweet</th>\n",
       "      <th>sentiment</th>\n",
       "    </tr>\n",
       "  </thead>\n",
       "  <tbody>\n",
       "    <tr>\n",
       "      <th>0</th>\n",
       "      <td>743</td>\n",
       "      <td>VoteLeave  Brexit</td>\n",
       "      <td>2804</td>\n",
       "      <td>0</td>\n",
       "      <td>6362</td>\n",
       "      <td>Tue Jun 21 22:22:50 +0000 2016</td>\n",
       "      <td>Make it happen Britain. Make 23rd June our Ind...</td>\n",
       "      <td>UK</td>\n",
       "      <td>Make it happen Britain. Make 23rd June our Ind...</td>\n",
       "      <td>2</td>\n",
       "    </tr>\n",
       "    <tr>\n",
       "      <th>1</th>\n",
       "      <td>339</td>\n",
       "      <td>Brexit  Remain  LabourInForBritain  LabourIn</td>\n",
       "      <td>3060</td>\n",
       "      <td>0</td>\n",
       "      <td>412</td>\n",
       "      <td>Tue Jun 21 22:22:51 +0000 2016</td>\n",
       "      <td>Little England or Great Britain? I know which ...</td>\n",
       "      <td>NaN</td>\n",
       "      <td>Little England or Great Britain? I know which ...</td>\n",
       "      <td>2</td>\n",
       "    </tr>\n",
       "    <tr>\n",
       "      <th>2</th>\n",
       "      <td>71</td>\n",
       "      <td>Brexit</td>\n",
       "      <td>208</td>\n",
       "      <td>0</td>\n",
       "      <td>202</td>\n",
       "      <td>Tue Jun 21 22:22:51 +0000 2016</td>\n",
       "      <td>Don't let it happen #Brexit https://t.co/fitue...</td>\n",
       "      <td>Under a bridge near you</td>\n",
       "      <td>Dont let it happen</td>\n",
       "      <td>2</td>\n",
       "    </tr>\n",
       "    <tr>\n",
       "      <th>3</th>\n",
       "      <td>128</td>\n",
       "      <td>BBCDebate  Bremain  Brexit</td>\n",
       "      <td>3039</td>\n",
       "      <td>0</td>\n",
       "      <td>2</td>\n",
       "      <td>Tue Jun 21 22:22:51 +0000 2016</td>\n",
       "      <td>So after #BBCDebate ? #Bremain #Brexit  https:...</td>\n",
       "      <td>NaN</td>\n",
       "      <td>So after ?</td>\n",
       "      <td>2</td>\n",
       "    </tr>\n",
       "    <tr>\n",
       "      <th>4</th>\n",
       "      <td>62</td>\n",
       "      <td>BBCDebate  Brexit  EU  makeitso</td>\n",
       "      <td>364</td>\n",
       "      <td>1</td>\n",
       "      <td>8</td>\n",
       "      <td>Tue Jun 21 22:22:52 +0000 2016</td>\n",
       "      <td>I made a easy way for you to vote on thursday,...</td>\n",
       "      <td>Bedford, UK</td>\n",
       "      <td>I made a easy way for you to vote on thursday</td>\n",
       "      <td>4</td>\n",
       "    </tr>\n",
       "    <tr>\n",
       "      <th>5</th>\n",
       "      <td>1816</td>\n",
       "      <td>Brexit</td>\n",
       "      <td>3295</td>\n",
       "      <td>0</td>\n",
       "      <td>396</td>\n",
       "      <td>Tue Jun 21 22:22:53 +0000 2016</td>\n",
       "      <td>If the Brits do #Brexit please please please @...</td>\n",
       "      <td>Dublin - Limerick</td>\n",
       "      <td>If the Brits do please please please include t...</td>\n",
       "      <td>2</td>\n",
       "    </tr>\n",
       "    <tr>\n",
       "      <th>6</th>\n",
       "      <td>362</td>\n",
       "      <td>Vancouver  Brexit</td>\n",
       "      <td>9859</td>\n",
       "      <td>0</td>\n",
       "      <td>1741</td>\n",
       "      <td>Tue Jun 21 22:22:55 +0000 2016</td>\n",
       "      <td>Can we all just emigrate to #Vancouver if #Bre...</td>\n",
       "      <td>Manchester UK</td>\n",
       "      <td>Can we all just emigrate to if goes pear shaped.</td>\n",
       "      <td>2</td>\n",
       "    </tr>\n",
       "    <tr>\n",
       "      <th>7</th>\n",
       "      <td>214</td>\n",
       "      <td>Bojo  brexit  StrongerIn</td>\n",
       "      <td>467</td>\n",
       "      <td>0</td>\n",
       "      <td>677</td>\n",
       "      <td>Tue Jun 21 22:22:57 +0000 2016</td>\n",
       "      <td>#Bojo 2 give televised apology if #brexit caus...</td>\n",
       "      <td>Brussels, Belgium</td>\n",
       "      <td>2 give televised apology if causes a recession...</td>\n",
       "      <td>2</td>\n",
       "    </tr>\n",
       "    <tr>\n",
       "      <th>8</th>\n",
       "      <td>208</td>\n",
       "      <td>Brexit</td>\n",
       "      <td>2105</td>\n",
       "      <td>0</td>\n",
       "      <td>292</td>\n",
       "      <td>Tue Jun 21 22:22:58 +0000 2016</td>\n",
       "      <td>@Lord_Sugar if farage had made a similar comme...</td>\n",
       "      <td>bradford yorkshire england</td>\n",
       "      <td>if farage had made a similar comment he would ...</td>\n",
       "      <td>2</td>\n",
       "    </tr>\n",
       "    <tr>\n",
       "      <th>9</th>\n",
       "      <td>744</td>\n",
       "      <td>boris  Brexit</td>\n",
       "      <td>12374</td>\n",
       "      <td>0</td>\n",
       "      <td>3309</td>\n",
       "      <td>Tue Jun 21 22:22:58 +0000 2016</td>\n",
       "      <td>@adopqc thought the leave sounded louder tbf, ...</td>\n",
       "      <td>nottingham</td>\n",
       "      <td>thought the leave sounded louder tbf 23rd is y...</td>\n",
       "      <td>2</td>\n",
       "    </tr>\n",
       "  </tbody>\n",
       "</table>\n",
       "</div>"
      ],
      "text/plain": [
       "  followers                                        hashtags  statuses_count  \\\n",
       "0       743                             VoteLeave  Brexit              2804   \n",
       "1       339  Brexit  Remain  LabourInForBritain  LabourIn              3060   \n",
       "2        71                                        Brexit               208   \n",
       "3       128                    BBCDebate  Bremain  Brexit              3039   \n",
       "4        62               BBCDebate  Brexit  EU  makeitso               364   \n",
       "5      1816                                        Brexit              3295   \n",
       "6       362                             Vancouver  Brexit              9859   \n",
       "7       214                      Bojo  brexit  StrongerIn               467   \n",
       "8       208                                        Brexit              2105   \n",
       "9       744                                 boris  Brexit             12374   \n",
       "\n",
       "   retweets  favourites                            date  \\\n",
       "0         0        6362  Tue Jun 21 22:22:50 +0000 2016   \n",
       "1         0         412  Tue Jun 21 22:22:51 +0000 2016   \n",
       "2         0         202  Tue Jun 21 22:22:51 +0000 2016   \n",
       "3         0           2  Tue Jun 21 22:22:51 +0000 2016   \n",
       "4         1           8  Tue Jun 21 22:22:52 +0000 2016   \n",
       "5         0         396  Tue Jun 21 22:22:53 +0000 2016   \n",
       "6         0        1741  Tue Jun 21 22:22:55 +0000 2016   \n",
       "7         0         677  Tue Jun 21 22:22:57 +0000 2016   \n",
       "8         0         292  Tue Jun 21 22:22:58 +0000 2016   \n",
       "9         0        3309  Tue Jun 21 22:22:58 +0000 2016   \n",
       "\n",
       "                                               tweet  \\\n",
       "0  Make it happen Britain. Make 23rd June our Ind...   \n",
       "1  Little England or Great Britain? I know which ...   \n",
       "2  Don't let it happen #Brexit https://t.co/fitue...   \n",
       "3  So after #BBCDebate ? #Bremain #Brexit  https:...   \n",
       "4  I made a easy way for you to vote on thursday,...   \n",
       "5  If the Brits do #Brexit please please please @...   \n",
       "6  Can we all just emigrate to #Vancouver if #Bre...   \n",
       "7  #Bojo 2 give televised apology if #brexit caus...   \n",
       "8  @Lord_Sugar if farage had made a similar comme...   \n",
       "9  @adopqc thought the leave sounded louder tbf, ...   \n",
       "\n",
       "                     location  \\\n",
       "0                          UK   \n",
       "1                         NaN   \n",
       "2     Under a bridge near you   \n",
       "3                         NaN   \n",
       "4                 Bedford, UK   \n",
       "5           Dublin - Limerick   \n",
       "6               Manchester UK   \n",
       "7           Brussels, Belgium   \n",
       "8  bradford yorkshire england   \n",
       "9                  nottingham   \n",
       "\n",
       "                                        parsed_tweet  sentiment  \n",
       "0  Make it happen Britain. Make 23rd June our Ind...          2  \n",
       "1  Little England or Great Britain? I know which ...          2  \n",
       "2                                Dont let it happen           2  \n",
       "3                                         So after ?          2  \n",
       "4      I made a easy way for you to vote on thursday          4  \n",
       "5  If the Brits do please please please include t...          2  \n",
       "6   Can we all just emigrate to if goes pear shaped.          2  \n",
       "7  2 give televised apology if causes a recession...          2  \n",
       "8  if farage had made a similar comment he would ...          2  \n",
       "9  thought the leave sounded louder tbf 23rd is y...          2  "
      ]
     },
     "execution_count": 5,
     "metadata": {},
     "output_type": "execute_result"
    }
   ],
   "source": [
    "data.head(10)"
   ]
  },
  {
   "cell_type": "code",
   "execution_count": 5,
   "metadata": {
    "collapsed": false
   },
   "outputs": [
    {
     "data": {
      "text/plain": [
       "followers            1\n",
       "hashtags             1\n",
       "statuses_count       6\n",
       "retweets             6\n",
       "favourites           6\n",
       "date                 6\n",
       "tweet                6\n",
       "location          4010\n",
       "parsed_tweet       148\n",
       "sentiment          147\n",
       "dtype: int64"
      ]
     },
     "execution_count": 5,
     "metadata": {},
     "output_type": "execute_result"
    }
   ],
   "source": [
    "data.isnull().sum()"
   ]
  },
  {
   "cell_type": "code",
   "execution_count": 6,
   "metadata": {
    "collapsed": false
   },
   "outputs": [],
   "source": [
    "df = data.dropna(subset=[\"sentiment\",\"parsed_tweet\"])"
   ]
  },
  {
   "cell_type": "code",
   "execution_count": 7,
   "metadata": {
    "collapsed": false
   },
   "outputs": [
    {
     "data": {
      "text/plain": [
       "followers            0\n",
       "hashtags             0\n",
       "statuses_count       0\n",
       "retweets             0\n",
       "favourites           0\n",
       "date                 0\n",
       "tweet                0\n",
       "location          3963\n",
       "parsed_tweet         0\n",
       "sentiment            0\n",
       "dtype: int64"
      ]
     },
     "execution_count": 7,
     "metadata": {},
     "output_type": "execute_result"
    }
   ],
   "source": [
    "df.isnull().sum()"
   ]
  },
  {
   "cell_type": "code",
   "execution_count": 8,
   "metadata": {
    "collapsed": false
   },
   "outputs": [
    {
     "name": "stdout",
     "output_type": "stream",
     "text": [
      "<class 'pandas.core.frame.DataFrame'>\n",
      "Int64Index: 17489 entries, 0 to 17629\n",
      "Data columns (total 10 columns):\n",
      "followers         17489 non-null object\n",
      "hashtags          17489 non-null object\n",
      "statuses_count    17489 non-null float64\n",
      "retweets          17489 non-null float64\n",
      "favourites        17489 non-null float64\n",
      "date              17489 non-null object\n",
      "tweet             17489 non-null object\n",
      "location          13526 non-null object\n",
      "parsed_tweet      17489 non-null object\n",
      "sentiment         17489 non-null float64\n",
      "dtypes: float64(4), object(6)\n",
      "memory usage: 1.5+ MB\n"
     ]
    }
   ],
   "source": [
    "df.info()"
   ]
  },
  {
   "cell_type": "code",
   "execution_count": 8,
   "metadata": {
    "collapsed": false
   },
   "outputs": [
    {
     "name": "stderr",
     "output_type": "stream",
     "text": [
      "C:\\Users\\SHIVAM MAHAJAN\\Anaconda\\lib\\site-packages\\pandas\\core\\generic.py:2387: SettingWithCopyWarning: \n",
      "A value is trying to be set on a copy of a slice from a DataFrame.\n",
      "Try using .loc[row_indexer,col_indexer] = value instead\n",
      "\n",
      "See the caveats in the documentation: http://pandas.pydata.org/pandas-docs/stable/indexing.html#indexing-view-versus-copy\n",
      "  self[name] = value\n"
     ]
    }
   ],
   "source": [
    "df.followers = df.followers.astype(float)"
   ]
  },
  {
   "cell_type": "code",
   "execution_count": 9,
   "metadata": {
    "collapsed": false
   },
   "outputs": [
    {
     "name": "stdout",
     "output_type": "stream",
     "text": [
      "<class 'pandas.core.frame.DataFrame'>\n",
      "Int64Index: 17489 entries, 0 to 17629\n",
      "Data columns (total 10 columns):\n",
      "followers         17489 non-null float64\n",
      "hashtags          17489 non-null object\n",
      "statuses_count    17489 non-null float64\n",
      "retweets          17489 non-null float64\n",
      "favourites        17489 non-null float64\n",
      "date              17489 non-null object\n",
      "tweet             17489 non-null object\n",
      "location          13526 non-null object\n",
      "parsed_tweet      17489 non-null object\n",
      "sentiment         17489 non-null float64\n",
      "dtypes: float64(5), object(5)\n",
      "memory usage: 1.5+ MB\n"
     ]
    }
   ],
   "source": [
    "df.info()"
   ]
  },
  {
   "cell_type": "code",
   "execution_count": 10,
   "metadata": {
    "collapsed": false
   },
   "outputs": [],
   "source": [
    "data2 = df[(df[\"sentiment\"]==4) | (df[\"sentiment\"]==0) ]"
   ]
  },
  {
   "cell_type": "code",
   "execution_count": 11,
   "metadata": {
    "collapsed": false
   },
   "outputs": [
    {
     "data": {
      "text/plain": [
       "3207"
      ]
     },
     "execution_count": 11,
     "metadata": {},
     "output_type": "execute_result"
    }
   ],
   "source": [
    "len(data2)"
   ]
  },
  {
   "cell_type": "code",
   "execution_count": 12,
   "metadata": {
    "collapsed": false
   },
   "outputs": [
    {
     "data": {
      "text/plain": [
       "array([ 0.,  4.])"
      ]
     },
     "execution_count": 12,
     "metadata": {},
     "output_type": "execute_result"
    }
   ],
   "source": [
    "np.unique(data2[\"sentiment\"])"
   ]
  },
  {
   "cell_type": "code",
   "execution_count": 13,
   "metadata": {
    "collapsed": false
   },
   "outputs": [
    {
     "data": {
      "text/plain": [
       "0    2006\n",
       "4    1201\n",
       "Name: sentiment, dtype: int64"
      ]
     },
     "execution_count": 13,
     "metadata": {},
     "output_type": "execute_result"
    }
   ],
   "source": [
    "data2[\"sentiment\"].value_counts()"
   ]
  },
  {
   "cell_type": "code",
   "execution_count": 15,
   "metadata": {
    "collapsed": true
   },
   "outputs": [],
   "source": [
    "num_pos = 1201\n",
    "num_neg = 2006"
   ]
  },
  {
   "cell_type": "code",
   "execution_count": 16,
   "metadata": {
    "collapsed": true
   },
   "outputs": [],
   "source": [
    "perc_pos = float(num_pos)/(num_pos + num_neg)"
   ]
  },
  {
   "cell_type": "code",
   "execution_count": 17,
   "metadata": {
    "collapsed": false
   },
   "outputs": [
    {
     "data": {
      "text/plain": [
       "0.37449329591518554"
      ]
     },
     "execution_count": 17,
     "metadata": {},
     "output_type": "execute_result"
    }
   ],
   "source": [
    "perc_pos"
   ]
  },
  {
   "cell_type": "code",
   "execution_count": 18,
   "metadata": {
    "collapsed": true
   },
   "outputs": [],
   "source": [
    "perc_neg = 1 - perc_pos"
   ]
  },
  {
   "cell_type": "code",
   "execution_count": 19,
   "metadata": {
    "collapsed": false
   },
   "outputs": [
    {
     "data": {
      "text/plain": [
       "0.6255067040848145"
      ]
     },
     "execution_count": 19,
     "metadata": {},
     "output_type": "execute_result"
    }
   ],
   "source": [
    "perc_neg"
   ]
  },
  {
   "cell_type": "code",
   "execution_count": 20,
   "metadata": {
    "collapsed": true
   },
   "outputs": [],
   "source": [
    "labels = [\"positive\",\"negative\"]\n",
    "col = [\"blue\",\"red\"]\n",
    "values = [num_pos,num_neg]"
   ]
  },
  {
   "cell_type": "code",
   "execution_count": 21,
   "metadata": {
    "collapsed": false
   },
   "outputs": [
    {
     "name": "stdout",
     "output_type": "stream",
     "text": [
      "Using matplotlib backend: Qt4Agg\n"
     ]
    },
    {
     "data": {
      "text/plain": [
       "([<matplotlib.patches.Wedge at 0xc687dd8>,\n",
       "  <matplotlib.patches.Wedge at 0x9e4def0>],\n",
       " [<matplotlib.text.Text at 0x9e4d748>, <matplotlib.text.Text at 0x9e5f828>],\n",
       " [<matplotlib.text.Text at 0x9e4db38>, <matplotlib.text.Text at 0x9e5fbe0>])"
      ]
     },
     "execution_count": 21,
     "metadata": {},
     "output_type": "execute_result"
    }
   ],
   "source": [
    "%matplotlib \n",
    "plt.pie(values, labels = labels ,colors = col, shadow=True,autopct = '%1.1f%%',startangle= 90)"
   ]
  },
  {
   "cell_type": "code",
   "execution_count": null,
   "metadata": {
    "collapsed": false
   },
   "outputs": [],
   "source": []
  },
  {
   "cell_type": "code",
   "execution_count": 14,
   "metadata": {
    "collapsed": false
   },
   "outputs": [
    {
     "data": {
      "text/plain": [
       "<matplotlib.text.Text at 0xc55f128>"
      ]
     },
     "execution_count": 14,
     "metadata": {},
     "output_type": "execute_result"
    }
   ],
   "source": [
    "bins = range(0,10000,1000)\n",
    "plt.hist(data2[\"followers\"],bins,histtype=\"bar\",rwidth=0.8)\n",
    "plt.xlabel(\"Followers count range\")\n",
    "plt.ylabel(\"Number of People\")"
   ]
  },
  {
   "cell_type": "code",
   "execution_count": 15,
   "metadata": {
    "collapsed": true
   },
   "outputs": [],
   "source": [
    "plt.show()"
   ]
  },
  {
   "cell_type": "code",
   "execution_count": 16,
   "metadata": {
    "collapsed": true
   },
   "outputs": [],
   "source": [
    "df2 = data2[data2[\"followers\"]<10000]"
   ]
  },
  {
   "cell_type": "code",
   "execution_count": 17,
   "metadata": {
    "collapsed": false
   },
   "outputs": [
    {
     "data": {
      "text/plain": [
       "3049"
      ]
     },
     "execution_count": 17,
     "metadata": {},
     "output_type": "execute_result"
    }
   ],
   "source": [
    "len(df2)"
   ]
  },
  {
   "cell_type": "code",
   "execution_count": 18,
   "metadata": {
    "collapsed": false
   },
   "outputs": [
    {
     "data": {
      "text/plain": [
       "[0,\n",
       " 500,\n",
       " 1000,\n",
       " 1500,\n",
       " 2000,\n",
       " 2500,\n",
       " 3000,\n",
       " 3500,\n",
       " 4000,\n",
       " 4500,\n",
       " 5000,\n",
       " 5500,\n",
       " 6000,\n",
       " 6500,\n",
       " 7000,\n",
       " 7500,\n",
       " 8000,\n",
       " 8500,\n",
       " 9000,\n",
       " 9500]"
      ]
     },
     "execution_count": 18,
     "metadata": {},
     "output_type": "execute_result"
    }
   ],
   "source": [
    "counts = range(0,10000,500)\n",
    "counts"
   ]
  },
  {
   "cell_type": "code",
   "execution_count": 19,
   "metadata": {
    "collapsed": true
   },
   "outputs": [],
   "source": [
    "hash_pos = {}\n",
    "hash_neg = {}\n",
    "for key in counts:\n",
    "    hash_pos[key] = 0\n",
    "    hash_neg[key] = 0"
   ]
  },
  {
   "cell_type": "code",
   "execution_count": 20,
   "metadata": {
    "collapsed": false
   },
   "outputs": [
    {
     "data": {
      "text/plain": [
       "{0: 0,\n",
       " 500: 0,\n",
       " 1000: 0,\n",
       " 1500: 0,\n",
       " 2000: 0,\n",
       " 2500: 0,\n",
       " 3000: 0,\n",
       " 3500: 0,\n",
       " 4000: 0,\n",
       " 4500: 0,\n",
       " 5000: 0,\n",
       " 5500: 0,\n",
       " 6000: 0,\n",
       " 6500: 0,\n",
       " 7000: 0,\n",
       " 7500: 0,\n",
       " 8000: 0,\n",
       " 8500: 0,\n",
       " 9000: 0,\n",
       " 9500: 0}"
      ]
     },
     "execution_count": 20,
     "metadata": {},
     "output_type": "execute_result"
    }
   ],
   "source": [
    "hash_pos"
   ]
  },
  {
   "cell_type": "code",
   "execution_count": 21,
   "metadata": {
    "collapsed": false
   },
   "outputs": [],
   "source": [
    "for i in range(len(data2)):\n",
    "    a = int(data2[\"followers\"].iloc[i])/500\n",
    "    if a<=19:\n",
    "        if data2[\"sentiment\"].iloc[i] == 0:\n",
    "            hash_neg[(a)*500]+=1\n",
    "        else:\n",
    "            hash_pos[(a)*500]+=1\n",
    "    else:\n",
    "        if data2[\"sentiment\"].iloc[i] == 0:\n",
    "            hash_neg[9500]+=1\n",
    "        else:\n",
    "            hash_pos[9500]+=1\n",
    "        "
   ]
  },
  {
   "cell_type": "code",
   "execution_count": 22,
   "metadata": {
    "collapsed": false
   },
   "outputs": [
    {
     "data": {
      "text/plain": [
       "{0: 604,\n",
       " 500: 188,\n",
       " 1000: 112,\n",
       " 1500: 38,\n",
       " 2000: 47,\n",
       " 2500: 36,\n",
       " 3000: 24,\n",
       " 3500: 10,\n",
       " 4000: 12,\n",
       " 4500: 15,\n",
       " 5000: 10,\n",
       " 5500: 8,\n",
       " 6000: 3,\n",
       " 6500: 8,\n",
       " 7000: 4,\n",
       " 7500: 4,\n",
       " 8000: 4,\n",
       " 8500: 6,\n",
       " 9000: 3,\n",
       " 9500: 65}"
      ]
     },
     "execution_count": 22,
     "metadata": {},
     "output_type": "execute_result"
    }
   ],
   "source": [
    "hash_pos"
   ]
  },
  {
   "cell_type": "code",
   "execution_count": 23,
   "metadata": {
    "collapsed": false
   },
   "outputs": [
    {
     "data": {
      "text/plain": [
       "{0: 1057,\n",
       " 500: 315,\n",
       " 1000: 159,\n",
       " 1500: 91,\n",
       " 2000: 61,\n",
       " 2500: 58,\n",
       " 3000: 45,\n",
       " 3500: 22,\n",
       " 4000: 16,\n",
       " 4500: 16,\n",
       " 5000: 16,\n",
       " 5500: 13,\n",
       " 6000: 10,\n",
       " 6500: 6,\n",
       " 7000: 8,\n",
       " 7500: 4,\n",
       " 8000: 5,\n",
       " 8500: 6,\n",
       " 9000: 0,\n",
       " 9500: 98}"
      ]
     },
     "execution_count": 23,
     "metadata": {},
     "output_type": "execute_result"
    }
   ],
   "source": [
    "hash_neg"
   ]
  },
  {
   "cell_type": "code",
   "execution_count": 24,
   "metadata": {
    "collapsed": false
   },
   "outputs": [],
   "source": [
    "positives = np.zeros(20)\n",
    "negatives = np.zeros(20)"
   ]
  },
  {
   "cell_type": "code",
   "execution_count": 25,
   "metadata": {
    "collapsed": false
   },
   "outputs": [],
   "source": [
    "for k,v in hash_pos.items():\n",
    "    a = k/500\n",
    "    positives[a] = v\n",
    "\n",
    "for k,v in hash_neg.items():\n",
    "    a = k/500\n",
    "    negatives[a] = v"
   ]
  },
  {
   "cell_type": "code",
   "execution_count": 26,
   "metadata": {
    "collapsed": false
   },
   "outputs": [
    {
     "data": {
      "text/plain": [
       "array([ 604.,  188.,  112.,   38.,   47.,   36.,   24.,   10.,   12.,\n",
       "         15.,   10.,    8.,    3.,    8.,    4.,    4.,    4.,    6.,\n",
       "          3.,   65.])"
      ]
     },
     "execution_count": 26,
     "metadata": {},
     "output_type": "execute_result"
    }
   ],
   "source": [
    "positives"
   ]
  },
  {
   "cell_type": "code",
   "execution_count": 27,
   "metadata": {
    "collapsed": false
   },
   "outputs": [
    {
     "data": {
      "text/plain": [
       "array([ 1057.,   315.,   159.,    91.,    61.,    58.,    45.,    22.,\n",
       "          16.,    16.,    16.,    13.,    10.,     6.,     8.,     4.,\n",
       "           5.,     6.,     0.,    98.])"
      ]
     },
     "execution_count": 27,
     "metadata": {},
     "output_type": "execute_result"
    }
   ],
   "source": [
    "negatives"
   ]
  },
  {
   "cell_type": "code",
   "execution_count": 28,
   "metadata": {
    "collapsed": true
   },
   "outputs": [],
   "source": [
    "perc_pos = []\n",
    "perc_neg = []\n",
    "for p,n in zip(positives,negatives):\n",
    "    perp = float(p)/(p+n)\n",
    "    pern = 1 - perp\n",
    "    perc_pos.append(perp)\n",
    "    perc_neg.append(pern)"
   ]
  },
  {
   "cell_type": "code",
   "execution_count": 31,
   "metadata": {
    "collapsed": false
   },
   "outputs": [
    {
     "data": {
      "text/plain": [
       "([<matplotlib.axis.YTick at 0xcd5ec50>,\n",
       "  <matplotlib.axis.YTick at 0xcd76e48>,\n",
       "  <matplotlib.axis.YTick at 0xce68208>,\n",
       "  <matplotlib.axis.YTick at 0xce86780>,\n",
       "  <matplotlib.axis.YTick at 0xce86be0>,\n",
       "  <matplotlib.axis.YTick at 0xced0080>,\n",
       "  <matplotlib.axis.YTick at 0xced06d8>,\n",
       "  <matplotlib.axis.YTick at 0xced0d68>,\n",
       "  <matplotlib.axis.YTick at 0xcedc438>,\n",
       "  <matplotlib.axis.YTick at 0xcedcac8>],\n",
       " <a list of 10 Text yticklabel objects>)"
      ]
     },
     "execution_count": 31,
     "metadata": {},
     "output_type": "execute_result"
    }
   ],
   "source": [
    "plt.stackplot(counts,perc_pos,perc_neg,colors=[\"b\",\"r\"])\n",
    "plt.ylabel(\"Probability of people in support and against\")\n",
    "plt.xlabel(\"Number of followers\")\n",
    "plt.plot([],[],color=\"b\",label=\"Positive Sentiment\")\n",
    "plt.plot([],[],color='r',label=\"Negative Sentiment\")\n",
    "plt.legend()\n",
    "plt.xticks(counts)\n",
    "plt.yticks(np.arange(0,1,0.1))"
   ]
  },
  {
   "cell_type": "code",
   "execution_count": 32,
   "metadata": {
    "collapsed": false
   },
   "outputs": [],
   "source": [
    "plt.show()"
   ]
  },
  {
   "cell_type": "code",
   "execution_count": 33,
   "metadata": {
    "collapsed": false
   },
   "outputs": [
    {
     "data": {
      "text/plain": [
       "([<matplotlib.axis.XTick at 0xd02e320>,\n",
       "  <matplotlib.axis.XTick at 0xd02e0f0>,\n",
       "  <matplotlib.axis.XTick at 0xd0934e0>,\n",
       "  <matplotlib.axis.XTick at 0xd0a2080>,\n",
       "  <matplotlib.axis.XTick at 0xd0a2710>,\n",
       "  <matplotlib.axis.XTick at 0xd0a2da0>,\n",
       "  <matplotlib.axis.XTick at 0xd14a470>,\n",
       "  <matplotlib.axis.XTick at 0xd14aa90>,\n",
       "  <matplotlib.axis.XTick at 0xd154128>,\n",
       "  <matplotlib.axis.XTick at 0xd1547b8>,\n",
       "  <matplotlib.axis.XTick at 0xd154e48>,\n",
       "  <matplotlib.axis.XTick at 0xd15e518>,\n",
       "  <matplotlib.axis.XTick at 0xd15eba8>,\n",
       "  <matplotlib.axis.XTick at 0xd16a278>,\n",
       "  <matplotlib.axis.XTick at 0xd16a908>,\n",
       "  <matplotlib.axis.XTick at 0xd16af98>,\n",
       "  <matplotlib.axis.XTick at 0xd173668>,\n",
       "  <matplotlib.axis.XTick at 0xd173cf8>,\n",
       "  <matplotlib.axis.XTick at 0xd1803c8>,\n",
       "  <matplotlib.axis.XTick at 0xd180a58>],\n",
       " <a list of 20 Text xticklabel objects>)"
      ]
     },
     "execution_count": 33,
     "metadata": {},
     "output_type": "execute_result"
    }
   ],
   "source": [
    "plt.scatter(counts,perc_pos,color='b',label='Positive Sentiments')\n",
    "plt.scatter(counts,perc_neg,color='r',label='Negative Sentiments')\n",
    "plt.ylabel(\"Probability of people in support and against\")\n",
    "plt.xlabel('Number of Followers')\n",
    "plt.xticks(counts)"
   ]
  },
  {
   "cell_type": "code",
   "execution_count": 34,
   "metadata": {
    "collapsed": true
   },
   "outputs": [],
   "source": [
    "plt.show()"
   ]
  },
  {
   "cell_type": "code",
   "execution_count": 35,
   "metadata": {
    "collapsed": false
   },
   "outputs": [
    {
     "data": {
      "text/plain": [
       "-0.53475538891411634"
      ]
     },
     "execution_count": 35,
     "metadata": {},
     "output_type": "execute_result"
    }
   ],
   "source": [
    "np.corrcoef(counts,positives)[0,1]"
   ]
  },
  {
   "cell_type": "code",
   "execution_count": 36,
   "metadata": {
    "collapsed": false
   },
   "outputs": [
    {
     "data": {
      "text/plain": [
       "-0.53267336710369462"
      ]
     },
     "execution_count": 36,
     "metadata": {},
     "output_type": "execute_result"
    }
   ],
   "source": [
    "np.corrcoef(counts,negatives)[0,1]"
   ]
  },
  {
   "cell_type": "code",
   "execution_count": 39,
   "metadata": {
    "collapsed": false
   },
   "outputs": [
    {
     "data": {
      "text/plain": [
       "<matplotlib.legend.Legend at 0x12b9ca90>"
      ]
     },
     "execution_count": 39,
     "metadata": {},
     "output_type": "execute_result"
    }
   ],
   "source": [
    "plt.bar(counts,positives,240,color='b',align='center',label='Positive Sentiments')\n",
    "plt.bar(counts,negatives,240,color='r',label='Negative Sentiments')\n",
    "plt.xlabel('Number of followers')\n",
    "plt.ylabel('Number of people with different sentiments')\n",
    "plt.xticks(counts)\n",
    "plt.legend()"
   ]
  },
  {
   "cell_type": "code",
   "execution_count": 40,
   "metadata": {
    "collapsed": true
   },
   "outputs": [],
   "source": [
    "plt.show()"
   ]
  },
  {
   "cell_type": "code",
   "execution_count": 41,
   "metadata": {
    "collapsed": false
   },
   "outputs": [
    {
     "data": {
      "text/plain": [
       "array([ 604.,  188.,  112.,   38.,   47.,   36.,   24.,   10.,   12.,\n",
       "         15.,   10.,    8.,    3.,    8.,    4.,    4.,    4.,    6.,\n",
       "          3.,   65.])"
      ]
     },
     "execution_count": 41,
     "metadata": {},
     "output_type": "execute_result"
    }
   ],
   "source": [
    "positives"
   ]
  },
  {
   "cell_type": "code",
   "execution_count": 42,
   "metadata": {
    "collapsed": false
   },
   "outputs": [
    {
     "data": {
      "text/plain": [
       "<matplotlib.legend.Legend at 0x12f57588>"
      ]
     },
     "execution_count": 42,
     "metadata": {},
     "output_type": "execute_result"
    }
   ],
   "source": [
    "plt.bar(counts,perc_pos,240,color='b',align='center',label='Positive Sentiments')\n",
    "plt.bar(counts,perc_neg,240,color='r',label='Negative Sentiments')\n",
    "plt.xlabel('Number of followers')\n",
    "plt.ylabel('Percentage of people with different sentiments')\n",
    "plt.xticks(counts)\n",
    "plt.legend()"
   ]
  },
  {
   "cell_type": "code",
   "execution_count": 43,
   "metadata": {
    "collapsed": true
   },
   "outputs": [],
   "source": [
    "plt.show()"
   ]
  },
  {
   "cell_type": "code",
   "execution_count": 44,
   "metadata": {
    "collapsed": false
   },
   "outputs": [],
   "source": [
    "s = data2[\"location\"].value_counts()"
   ]
  },
  {
   "cell_type": "code",
   "execution_count": 45,
   "metadata": {
    "collapsed": false
   },
   "outputs": [
    {
     "data": {
      "text/plain": [
       "London                         89\n",
       "London, England                51\n",
       "UK                             41\n",
       "United Kingdom                 32\n",
       "England, United Kingdom        30\n",
       "Australia                      24\n",
       "Washington, DC                 20\n",
       "England                        18\n",
       "United States                  17\n",
       "London, UK                     16\n",
       "Sydney                         15\n",
       "New York, NY                   14\n",
       "New York                       14\n",
       "Scotland                       14\n",
       "Ireland                        13\n",
       "USA                            12\n",
       "Singapore                      12\n",
       "Sydney, Australia              12\n",
       "San Francisco, CA              11\n",
       "Dallas, TX                     11\n",
       "Melbourne, Australia           11\n",
       "Brooklyn, NY                   11\n",
       "Los Angeles, CA                11\n",
       "Earth                          10\n",
       "Melbourne                      10\n",
       "القاهرة, مصر                   10\n",
       "Carlisle                        9\n",
       "Edinburgh                       8\n",
       "Scotland, United Kingdom        8\n",
       "Glasgow                         7\n",
       "                               ..\n",
       "Manchester                      7\n",
       "Chicago, IL                     7\n",
       "San Francisco                   6\n",
       "Toronto                         6\n",
       "Global                          6\n",
       "Los Angeles                     6\n",
       "Dublin                          6\n",
       "Chicago                         6\n",
       "Vancouver, BC                   6\n",
       "Canada                          6\n",
       "India                           5\n",
       "Planet Earth                    5\n",
       "New York City                   5\n",
       "Tuscany, Arezzo, Florence       5\n",
       "Brooklyn, New York              5\n",
       "New Zealand                     5\n",
       "Wolverhampton, England          5\n",
       "Toronto, Ontario                5\n",
       "London                          5\n",
       "Great Britain                   5\n",
       "New York, USA                   5\n",
       "Germany                         5\n",
       "Seattle                         5\n",
       "nyc                             5\n",
       "Birmingham                      5\n",
       "ÜT: 3.159178,101.712722         5\n",
       "Here & There @121depression     5\n",
       "Bath,  UK.                      5\n",
       "Rabbit Hole, Texas + DC         5\n",
       "Roaming, Stateside              5\n",
       "Name: location, dtype: int64"
      ]
     },
     "execution_count": 45,
     "metadata": {},
     "output_type": "execute_result"
    }
   ],
   "source": [
    "s[s>4]"
   ]
  },
  {
   "cell_type": "code",
   "execution_count": 46,
   "metadata": {
    "collapsed": false
   },
   "outputs": [
    {
     "data": {
      "text/plain": [
       "followers           0\n",
       "hashtags            0\n",
       "statuses_count      0\n",
       "retweets            0\n",
       "favourites          0\n",
       "date                0\n",
       "tweet               0\n",
       "location          726\n",
       "parsed_tweet        0\n",
       "sentiment           0\n",
       "dtype: int64"
      ]
     },
     "execution_count": 46,
     "metadata": {},
     "output_type": "execute_result"
    }
   ],
   "source": [
    "data2.isnull().sum()"
   ]
  },
  {
   "cell_type": "code",
   "execution_count": 47,
   "metadata": {
    "collapsed": false
   },
   "outputs": [],
   "source": [
    "data3 = data2.dropna(subset = [\"location\"])"
   ]
  },
  {
   "cell_type": "code",
   "execution_count": 48,
   "metadata": {
    "collapsed": false
   },
   "outputs": [
    {
     "data": {
      "text/plain": [
       "followers         0\n",
       "hashtags          0\n",
       "statuses_count    0\n",
       "retweets          0\n",
       "favourites        0\n",
       "date              0\n",
       "tweet             0\n",
       "location          0\n",
       "parsed_tweet      0\n",
       "sentiment         0\n",
       "dtype: int64"
      ]
     },
     "execution_count": 48,
     "metadata": {},
     "output_type": "execute_result"
    }
   ],
   "source": [
    "data3.isnull().sum()"
   ]
  },
  {
   "cell_type": "code",
   "execution_count": 49,
   "metadata": {
    "collapsed": false
   },
   "outputs": [],
   "source": [
    "location_pos = {\n",
    "    \"London\":0,\n",
    "    \"UK\" :0,\n",
    "    \"Australia\":0,\n",
    "    \"USA\":0,\n",
    "    \"Scotland\" : 0,\n",
    "    \"Ireland\":0,\n",
    "    \"Singapore\" : 0,\n",
    "    \"India\" : 0\n",
    "}\n",
    "location_neg = {\n",
    "    \"London\":0,\n",
    "    \"UK\" :0,\n",
    "    \"Australia\":0,\n",
    "    \"USA\":0,\n",
    "    \"Scotland\" : 0,\n",
    "    \"Ireland\":0,\n",
    "    \"Singapore\" : 0,\n",
    "    \"India\" : 0\n",
    "}\n",
    "location = {\n",
    "    \"London\":0,\n",
    "    \"UK\" :0,\n",
    "    \"Australia\":0,\n",
    "    \"USA\":0,\n",
    "    \"Scotland\" : 0,\n",
    "    \"Ireland\":0,\n",
    "    \"Singapore\" : 0,\n",
    "    \"India\" : 0\n",
    "}\n"
   ]
  },
  {
   "cell_type": "code",
   "execution_count": 50,
   "metadata": {
    "collapsed": false
   },
   "outputs": [],
   "source": [
    "for i in range(len(data3)):\n",
    "    if \"London\" in data3[\"location\"].iloc[i] or \"England\" in data3[\"location\"].iloc[i] or \"Manchester\" in data3[\"location\"].iloc[i] \\\n",
    "    or \"Bretain\" in data3[\"location\"].iloc[i]:\n",
    "        location[\"London\"] +=1\n",
    "        if data3[\"sentiment\"].iloc[i] == 0:\n",
    "            location_neg[\"London\"]+=1\n",
    "        else:\n",
    "            location_pos[\"London\"]+=1\n",
    "    elif \"United Kingdom\" in data3[\"location\"].iloc[i] or \"UK\" in data3[\"location\"].iloc[i]:\n",
    "        location[\"UK\"]+=1\n",
    "        if data3[\"sentiment\"].iloc[i] == 0:\n",
    "            location_neg[\"UK\"]+=1\n",
    "        else:\n",
    "            location_pos[\"UK\"]+=1\n",
    "    elif \"Australia\" in data3[\"location\"].iloc[i] or \"Sydney\" in data3[\"location\"].iloc[i] or \"Melbourne\" in data3[\"location\"].iloc[i]:\n",
    "        location[\"Australia\"]+=1\n",
    "        if data3[\"sentiment\"].iloc[i] == 0:\n",
    "            location_neg[\"Australia\"]+=1\n",
    "        else:\n",
    "            location_pos[\"Australia\"]+=1\n",
    "    elif \"Scotland\" in data3[\"location\"].iloc[i]:\n",
    "        location[\"Scotland\"]+=1\n",
    "        if data3[\"sentiment\"].iloc[i] == 0:\n",
    "            location_neg[\"Scotland\"]+=1\n",
    "        else:\n",
    "            location_pos[\"Scotland\"]+=1\n",
    "    elif \"Ireland\" in data3[\"location\"].iloc[i]:\n",
    "        location[\"Ireland\"]+=1\n",
    "        if data3[\"sentiment\"].iloc[i] == 0:\n",
    "            location_neg[\"Ireland\"]+=1\n",
    "        else:\n",
    "            location_pos[\"Ireland\"]+=1\n",
    "    elif \"Singapore\" in data3[\"location\"].iloc[i]:\n",
    "        location[\"Singapore\"]+=1\n",
    "        if data3[\"sentiment\"].iloc[i] == 0:\n",
    "            location_neg[\"Singapore\"]+=1\n",
    "        else:\n",
    "            location_pos[\"Singapore\"]+=1\n",
    "    elif \"India\" in data3[\"location\"].iloc[i]:\n",
    "        location[\"India\"]+=1\n",
    "        if data3[\"sentiment\"].iloc[i] == 0:\n",
    "            location_neg[\"India\"]+=1\n",
    "        else:\n",
    "            location_pos[\"India\"]+=1\n",
    "    elif \"DC\" in data3[\"location\"].iloc[i] or \"United States\" in data3[\"location\"].iloc[i] or \"New York\" in data3[\"location\"].iloc[i] or\\\n",
    "    \"USA\" in data3[\"location\"].iloc[i] or \"CA\" in data3[\"location\"].iloc[i] or \"TX\" in data3[\"location\"].iloc[i] or \"NY\" in data3[\"location\"].iloc[i]:\n",
    "        location[\"USA\"]+=1\n",
    "        if data3[\"sentiment\"].iloc[i] == 0:\n",
    "            location_neg[\"USA\"]+=1\n",
    "        else:\n",
    "            location_pos[\"USA\"]+=1"
   ]
  },
  {
   "cell_type": "code",
   "execution_count": 51,
   "metadata": {
    "collapsed": false
   },
   "outputs": [
    {
     "data": {
      "text/plain": [
       "{'Australia': 29,\n",
       " 'India': 6,\n",
       " 'Ireland': 12,\n",
       " 'London': 148,\n",
       " 'Scotland': 11,\n",
       " 'Singapore': 6,\n",
       " 'UK': 68,\n",
       " 'USA': 117}"
      ]
     },
     "execution_count": 51,
     "metadata": {},
     "output_type": "execute_result"
    }
   ],
   "source": [
    "location_pos"
   ]
  },
  {
   "cell_type": "code",
   "execution_count": 52,
   "metadata": {
    "collapsed": false
   },
   "outputs": [
    {
     "data": {
      "text/plain": [
       "{'Australia': 83,\n",
       " 'India': 5,\n",
       " 'Ireland': 22,\n",
       " 'London': 255,\n",
       " 'Scotland': 20,\n",
       " 'Singapore': 6,\n",
       " 'UK': 125,\n",
       " 'USA': 169}"
      ]
     },
     "execution_count": 52,
     "metadata": {},
     "output_type": "execute_result"
    }
   ],
   "source": [
    "location_neg"
   ]
  },
  {
   "cell_type": "code",
   "execution_count": 53,
   "metadata": {
    "collapsed": false
   },
   "outputs": [
    {
     "data": {
      "text/plain": [
       "{'Australia': 112,\n",
       " 'India': 11,\n",
       " 'Ireland': 34,\n",
       " 'London': 403,\n",
       " 'Scotland': 31,\n",
       " 'Singapore': 12,\n",
       " 'UK': 193,\n",
       " 'USA': 286}"
      ]
     },
     "execution_count": 53,
     "metadata": {},
     "output_type": "execute_result"
    }
   ],
   "source": [
    "location"
   ]
  },
  {
   "cell_type": "code",
   "execution_count": 54,
   "metadata": {
    "collapsed": false
   },
   "outputs": [],
   "source": [
    "loc_pos_values = []\n",
    "loc_pos_keys = []\n",
    "for k,v in location_pos.items():\n",
    "    loc_pos_keys.append(k)\n",
    "    loc_pos_values.append(v)\n",
    "\n",
    "loc_neg_values = []\n",
    "loc_neg_keys = []\n",
    "loc_neg_keys = loc_pos_keys\n",
    "for k in loc_neg_keys:\n",
    "    loc_neg_values.append(location_neg[k])"
   ]
  },
  {
   "cell_type": "code",
   "execution_count": 55,
   "metadata": {
    "collapsed": false
   },
   "outputs": [
    {
     "data": {
      "text/plain": [
       "['Ireland',\n",
       " 'Australia',\n",
       " 'London',\n",
       " 'USA',\n",
       " 'UK',\n",
       " 'Singapore',\n",
       " 'India',\n",
       " 'Scotland']"
      ]
     },
     "execution_count": 55,
     "metadata": {},
     "output_type": "execute_result"
    }
   ],
   "source": [
    "loc_pos_keys"
   ]
  },
  {
   "cell_type": "code",
   "execution_count": 56,
   "metadata": {
    "collapsed": false
   },
   "outputs": [],
   "source": [
    "x = np.arange(len(loc_pos_values))"
   ]
  },
  {
   "cell_type": "code",
   "execution_count": 57,
   "metadata": {
    "collapsed": false
   },
   "outputs": [
    {
     "data": {
      "text/plain": [
       "([<matplotlib.axis.XTick at 0x12d33dd8>,\n",
       "  <matplotlib.axis.XTick at 0x1329b0b8>,\n",
       "  <matplotlib.axis.XTick at 0x1344b7f0>,\n",
       "  <matplotlib.axis.XTick at 0x1344bd68>,\n",
       "  <matplotlib.axis.XTick at 0x13454438>,\n",
       "  <matplotlib.axis.XTick at 0x13454ac8>,\n",
       "  <matplotlib.axis.XTick at 0x13461198>,\n",
       "  <matplotlib.axis.XTick at 0x13461828>],\n",
       " <a list of 8 Text xticklabel objects>)"
      ]
     },
     "execution_count": 57,
     "metadata": {},
     "output_type": "execute_result"
    }
   ],
   "source": [
    "plt.bar(x,loc_pos_values,0.2,color='b',label=\"Positive Sentiment\",align=\"center\")\n",
    "plt.bar(x,loc_neg_values,0.2,color='r',label=\"Negative Sentiment\")\n",
    "plt.ylabel(\"Number of people with different sentiment\")\n",
    "plt.legend()\n",
    "plt.xticks(x,loc_pos_keys)"
   ]
  },
  {
   "cell_type": "code",
   "execution_count": 59,
   "metadata": {
    "collapsed": false
   },
   "outputs": [],
   "source": [
    "plt.show()"
   ]
  },
  {
   "cell_type": "code",
   "execution_count": 60,
   "metadata": {
    "collapsed": false
   },
   "outputs": [
    {
     "data": {
      "text/plain": [
       "[12, 29, 148, 117, 68, 6, 6, 11]"
      ]
     },
     "execution_count": 60,
     "metadata": {},
     "output_type": "execute_result"
    }
   ],
   "source": [
    "loc_pos_values"
   ]
  },
  {
   "cell_type": "code",
   "execution_count": 61,
   "metadata": {
    "collapsed": false
   },
   "outputs": [
    {
     "data": {
      "text/plain": [
       "[22, 83, 255, 169, 125, 6, 5, 20]"
      ]
     },
     "execution_count": 61,
     "metadata": {},
     "output_type": "execute_result"
    }
   ],
   "source": [
    "loc_neg_values"
   ]
  },
  {
   "cell_type": "code",
   "execution_count": 62,
   "metadata": {
    "collapsed": true
   },
   "outputs": [],
   "source": [
    "loc_pos_perc = []\n",
    "loc_neg_perc = []\n",
    "for i in range(len(loc_pos_values)):\n",
    "    pos_perc = float(loc_pos_values[i])/(loc_pos_values[i] + loc_neg_values[i])\n",
    "    neg_perc = float(loc_neg_values[i])/(loc_neg_values[i] + loc_pos_values[i])\n",
    "    loc_pos_perc.append(pos_perc)\n",
    "    loc_neg_perc.append(neg_perc)"
   ]
  },
  {
   "cell_type": "code",
   "execution_count": 63,
   "metadata": {
    "collapsed": false
   },
   "outputs": [
    {
     "data": {
      "text/plain": [
       "[0.35294117647058826,\n",
       " 0.25892857142857145,\n",
       " 0.36724565756823824,\n",
       " 0.4090909090909091,\n",
       " 0.35233160621761656,\n",
       " 0.5,\n",
       " 0.5454545454545454,\n",
       " 0.3548387096774194]"
      ]
     },
     "execution_count": 63,
     "metadata": {},
     "output_type": "execute_result"
    }
   ],
   "source": [
    "loc_pos_perc"
   ]
  },
  {
   "cell_type": "code",
   "execution_count": 64,
   "metadata": {
    "collapsed": false
   },
   "outputs": [
    {
     "data": {
      "text/plain": [
       "[0.6470588235294118,\n",
       " 0.7410714285714286,\n",
       " 0.6327543424317618,\n",
       " 0.5909090909090909,\n",
       " 0.6476683937823834,\n",
       " 0.5,\n",
       " 0.45454545454545453,\n",
       " 0.6451612903225806]"
      ]
     },
     "execution_count": 64,
     "metadata": {},
     "output_type": "execute_result"
    }
   ],
   "source": [
    "loc_neg_perc"
   ]
  },
  {
   "cell_type": "code",
   "execution_count": 70,
   "metadata": {
    "collapsed": false
   },
   "outputs": [
    {
     "data": {
      "text/plain": [
       "([<matplotlib.axis.XTick at 0x1342b8d0>,\n",
       "  <matplotlib.axis.XTick at 0x1ba07908>,\n",
       "  <matplotlib.axis.XTick at 0x1bb76198>,\n",
       "  <matplotlib.axis.XTick at 0x1bb76710>,\n",
       "  <matplotlib.axis.XTick at 0x1bb76da0>,\n",
       "  <matplotlib.axis.XTick at 0x1bb83470>,\n",
       "  <matplotlib.axis.XTick at 0x1bb83b00>,\n",
       "  <matplotlib.axis.XTick at 0x1bb8f1d0>],\n",
       " <a list of 8 Text xticklabel objects>)"
      ]
     },
     "execution_count": 70,
     "metadata": {},
     "output_type": "execute_result"
    }
   ],
   "source": [
    "plt.bar(x,loc_pos_perc,0.2,color='b',label = \"Positive Sentiment\",align = 'center')\n",
    "plt.bar(x,loc_neg_perc,0.2,color='r',label = \"Negative Sentiment\")\n",
    "plt.ylabel(\"Percentage of people with different opinion\")\n",
    "plt.legend()\n",
    "plt.xticks(x,loc_pos_keys)"
   ]
  },
  {
   "cell_type": "code",
   "execution_count": 71,
   "metadata": {
    "collapsed": true
   },
   "outputs": [],
   "source": [
    "plt.show()"
   ]
  },
  {
   "cell_type": "code",
   "execution_count": null,
   "metadata": {
    "collapsed": true
   },
   "outputs": [],
   "source": []
  },
  {
   "cell_type": "code",
   "execution_count": null,
   "metadata": {
    "collapsed": true
   },
   "outputs": [],
   "source": []
  }
 ],
 "metadata": {
  "kernelspec": {
   "display_name": "Python 2",
   "language": "python",
   "name": "python2"
  },
  "language_info": {
   "codemirror_mode": {
    "name": "ipython",
    "version": 2
   },
   "file_extension": ".py",
   "mimetype": "text/x-python",
   "name": "python",
   "nbconvert_exporter": "python",
   "pygments_lexer": "ipython2",
   "version": "2.7.11"
  }
 },
 "nbformat": 4,
 "nbformat_minor": 0
}
