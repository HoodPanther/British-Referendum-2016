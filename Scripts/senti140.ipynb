{
 "cells": [
  {
   "cell_type": "code",
   "execution_count": 58,
   "metadata": {
    "collapsed": true
   },
   "outputs": [],
   "source": [
    "import numpy as np\n",
    "import pandas as pd\n",
    "import matplotlib.pyplot as plt\n",
    "import urllib2\n",
    "import json\n",
    "import re"
   ]
  },
  {
   "cell_type": "code",
   "execution_count": 59,
   "metadata": {
    "collapsed": true
   },
   "outputs": [],
   "source": [
    "import string\n",
    "def beep():\n",
    "    print(\"\\a\")"
   ]
  },
  {
   "cell_type": "code",
   "execution_count": 60,
   "metadata": {
    "collapsed": true
   },
   "outputs": [],
   "source": [
    "df = pd.read_csv(r\"C:\\Users\\SHIVAM MAHAJAN\\Desktop\\Users.csv\")\n",
    "query = \"Farage OR Cameron OR Osborne OR Gove OR Johnson\"      # Parameter for request to be made (Redundant)"
   ]
  },
  {
   "cell_type": "code",
   "execution_count": 61,
   "metadata": {
    "collapsed": false
   },
   "outputs": [],
   "source": [
    "class sentiment140:\n",
    "    def __init__(self,df,char):\n",
    "        self.data = []\n",
    "        self.method = char\n",
    "        self.df = df\n",
    "        self.s = {}\n",
    "        \n",
    "    def jsonData(self,df):\n",
    "        txt =  re.sub('#\\S*|https\\S*|@\\S*','',df['tweet']) # Removing hashtags, URLs, @... from tweets\n",
    "        hash = {}\n",
    "        txt = re.sub(r\"\\\\x[a-z0-9][a-z0-9]\",'',repr(txt))  # For dealing with \\x0f\\xa2 etc - smilies/emotions\n",
    "        txt = re.sub(r'\\\\n','',txt)                        # converting back - repr(text) -> text\n",
    "        txt = re.sub(r\"'|,\",'',txt)                        # Substituting ' and , with \"\" (Nothing)\n",
    "        txt = txt.strip()                                  # Removing extra spacing around the string\n",
    "        hash[\"text\"] = str(txt)                              \n",
    "        hash[\"query\"] = query\n",
    "        self.data.append(hash)            \n",
    "        \n",
    "    def jsonFormat(self,init,end):                 \n",
    "        df2 = self.df.iloc[init:end,:]             # Sentiment140 can analyze sentiment of only 10000 tweets at a time\n",
    "        df2.apply(self.jsonData,axis=1).head()     #  Applying jsonData() method to every row of data frame.\n",
    "        self.s[\"data\"] = self.data                 # Foring JSON data\n",
    "         \n",
    "    def recieveSentiment(self,init,end):\n",
    "        self.jsonFormat(init,end)\n",
    "        response = urllib2.urlopen('http://www.sentiment140.com/api/bulkClassifyJson', str(self.s)) # request to server\n",
    "        page = response.read()                                                                      # get the response\n",
    "        js=json.loads(page)                  # Getting JSON\n",
    "        size = len(js[\"data\"])               \n",
    "        f = open(\"C:\\Users\\SHIVAM MAHAJAN\\Desktop\\sentiment2.csv\",self.method)\n",
    "        \n",
    "        for i in range(size):                # Storing in file - sentiment2.csv both tweet and sentiment\n",
    "            sent=\"\"\n",
    "            txt = str(js[\"data\"][i][\"text\"])\n",
    "            txt = string.replace(txt,'\\n',' ')\n",
    "            sent += str(txt) + \",\" + str(js[\"data\"][i][\"polarity\"]) + \"\\n\"\n",
    "            f.write(sent)\n",
    "            \n",
    "        f.close()"
   ]
  },
  {
   "cell_type": "code",
   "execution_count": 62,
   "metadata": {
    "collapsed": false
   },
   "outputs": [
    {
     "name": "stdout",
     "output_type": "stream",
     "text": [
      "\u0007\n"
     ]
    }
   ],
   "source": [
    "senti = sentiment140(df,\"w\")\n",
    "senti.recieveSentiment(0,100)\n",
    "if True:\n",
    "    beep()"
   ]
  },
  {
   "cell_type": "code",
   "execution_count": 63,
   "metadata": {
    "collapsed": false
   },
   "outputs": [],
   "source": [
    "df3 = pd.read_csv(r\"C:\\Users\\SHIVAM MAHAJAN\\Desktop\\sentiment2.csv\",header=None,names=[\"tweets\",\"Sentiment\"],sep=',')"
   ]
  }
 ],
 "metadata": {
  "kernelspec": {
   "display_name": "Python 2",
   "language": "python",
   "name": "python2"
  },
  "language_info": {
   "codemirror_mode": {
    "name": "ipython",
    "version": 2
   },
   "file_extension": ".py",
   "mimetype": "text/x-python",
   "name": "python",
   "nbconvert_exporter": "python",
   "pygments_lexer": "ipython2",
   "version": "2.7.11"
  }
 },
 "nbformat": 4,
 "nbformat_minor": 0
}
